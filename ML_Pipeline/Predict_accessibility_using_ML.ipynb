{
 "cells": [
  {
   "cell_type": "markdown",
   "metadata": {},
   "source": [
    "# Predict park accessibility in NYC using Machine Learning\n",
    "\n",
    "In this notebook, we work through how we can ingest the parquet file produced by our ETL pipeline into an ML algorithm for training a model to predict accessibility. We will go through the entire data science lifecyle -- \n",
    "\n",
    "data ingest --> data exploration --> data cleaning --> staging the training data --> machine learning.\n",
    "\n",
    "Accessiblity here is defined as whether parks are categorized as Level 4 or not.  \n",
    "\n",
    "For Machine learning, we will use two approaches -- \n",
    "\n",
    "1/ Train an XGBoost model to predict whether accessible parks are available based on individual tax returns and park data \n",
    "\n",
    "2/ Train a model using SageMaker Autopilot and compare the results. SageMaker Autopilot is a fully managed ML service that can train various machine learning models with different hyperparameters, and allow you to pick the best one. Here we will use the SageMaker Python SDK to make API calls to SageMaker Autopilot to train and deploy an ML model."
   ]
  },
  {
   "cell_type": "markdown",
   "metadata": {},
   "source": [
    "# Import Libraries and Data\n",
    "\n",
    "Note that to import the data in parquet format into a pandas dataframe, we will need to install pyarrow library."
   ]
  },
  {
   "cell_type": "code",
   "execution_count": 5,
   "metadata": {},
   "outputs": [],
   "source": [
    "import pandas as pd\n",
    "import numpy as np\n",
    "import os\n",
    "import matplotlib.pyplot as plt\n",
    "import seaborn as sns\n",
    "from sklearn.metrics import accuracy_score, auc, classification_report\n",
    "from sklearn.model_selection import train_test_split\n",
    "import io\n",
    "import sagemaker.amazon.common as smac\n",
    "import boto3\n",
    "import re\n",
    "from sagemaker import get_execution_role\n",
    "import sagemaker\n",
    "from sagemaker.amazon.amazon_estimator import get_image_uri\n",
    "from sagemaker.predictor import csv_serializer, json_deserializer\n"
   ]
  },
  {
   "cell_type": "code",
   "execution_count": 6,
   "metadata": {},
   "outputs": [
    {
     "name": "stdout",
     "output_type": "stream",
     "text": [
      "Looking in indexes: https://pypi.org/simple, https://pip.repos.neuron.amazonaws.com\n",
      "Requirement already satisfied: pip in /home/ec2-user/anaconda3/envs/python3/lib/python3.10/site-packages (23.0.1)\n",
      "Looking in indexes: https://pypi.org/simple, https://pip.repos.neuron.amazonaws.com\n",
      "Requirement already satisfied: boto3==1.10.33 in /home/ec2-user/anaconda3/envs/python3/lib/python3.10/site-packages (1.10.33)\n",
      "Requirement already satisfied: s3transfer<0.3.0,>=0.2.0 in /home/ec2-user/anaconda3/envs/python3/lib/python3.10/site-packages (from boto3==1.10.33) (0.2.1)\n",
      "Requirement already satisfied: jmespath<1.0.0,>=0.7.1 in /home/ec2-user/anaconda3/envs/python3/lib/python3.10/site-packages (from boto3==1.10.33) (0.10.0)\n",
      "Requirement already satisfied: botocore<1.14.0,>=1.13.33 in /home/ec2-user/anaconda3/envs/python3/lib/python3.10/site-packages (from boto3==1.10.33) (1.13.50)\n",
      "Requirement already satisfied: docutils<0.16,>=0.10 in /home/ec2-user/anaconda3/envs/python3/lib/python3.10/site-packages (from botocore<1.14.0,>=1.13.33->boto3==1.10.33) (0.15.2)\n",
      "Requirement already satisfied: python-dateutil<3.0.0,>=2.1 in /home/ec2-user/anaconda3/envs/python3/lib/python3.10/site-packages (from botocore<1.14.0,>=1.13.33->boto3==1.10.33) (2.8.2)\n",
      "Requirement already satisfied: urllib3<1.26,>=1.20 in /home/ec2-user/anaconda3/envs/python3/lib/python3.10/site-packages (from botocore<1.14.0,>=1.13.33->boto3==1.10.33) (1.25.11)\n",
      "Requirement already satisfied: six>=1.5 in /home/ec2-user/anaconda3/envs/python3/lib/python3.10/site-packages (from python-dateutil<3.0.0,>=2.1->botocore<1.14.0,>=1.13.33->boto3==1.10.33) (1.16.0)\n"
     ]
    }
   ],
   "source": [
    "# if needed, updated boto3\n",
    "!pip install --upgrade pip\n",
    "if boto3.__version__ != '1.10.33':\n",
    "    !pip install boto3=='1.10.33'\n",
    "else:\n",
    "    pass\n"
   ]
  },
  {
   "cell_type": "code",
   "execution_count": 7,
   "metadata": {},
   "outputs": [
    {
     "name": "stdout",
     "output_type": "stream",
     "text": [
      "Looking in indexes: https://pypi.org/simple, https://pip.repos.neuron.amazonaws.com\r\n",
      "Requirement already satisfied: pyarrow in /home/ec2-user/anaconda3/envs/python3/lib/python3.10/site-packages (11.0.0)\r\n",
      "Requirement already satisfied: numpy>=1.16.6 in /home/ec2-user/anaconda3/envs/python3/lib/python3.10/site-packages (from pyarrow) (1.22.3)\r\n"
     ]
    }
   ],
   "source": [
    "!pip install pyarrow"
   ]
  },
  {
   "cell_type": "code",
   "execution_count": 9,
   "metadata": {},
   "outputs": [
    {
     "data": {
      "text/html": [
       "<div>\n",
       "<style scoped>\n",
       "    .dataframe tbody tr th:only-of-type {\n",
       "        vertical-align: middle;\n",
       "    }\n",
       "\n",
       "    .dataframe tbody tr th {\n",
       "        vertical-align: top;\n",
       "    }\n",
       "\n",
       "    .dataframe thead th {\n",
       "        text-align: right;\n",
       "    }\n",
       "</style>\n",
       "<table border=\"1\" class=\"dataframe\">\n",
       "  <thead>\n",
       "    <tr style=\"text-align: right;\">\n",
       "      <th></th>\n",
       "      <th>_corrupt_record</th>\n",
       "    </tr>\n",
       "  </thead>\n",
       "  <tbody>\n",
       "    <tr>\n",
       "      <th>0</th>\n",
       "      <td>&lt;html&gt;\\r\\n&lt;head&gt;&lt;title&gt;403 Forbidden&lt;/title&gt;&lt;/...</td>\n",
       "    </tr>\n",
       "  </tbody>\n",
       "</table>\n",
       "</div>"
      ],
      "text/plain": [
       "                                     _corrupt_record\n",
       "0  <html>\\r\\n<head><title>403 Forbidden</title></..."
      ]
     },
     "execution_count": 9,
     "metadata": {},
     "output_type": "execute_result"
    }
   ],
   "source": [
    "FILENAME = 'part-00000-588c7835-a113-419a-8cea-580b11e397e8-c000.snappy.parquet'\n",
    "df = pd.read_parquet(FILENAME)\n",
    "df.head()"
   ]
  },
  {
   "cell_type": "code",
   "execution_count": null,
   "metadata": {},
   "outputs": [],
   "source": [
    "df.Playground_ID.value_counts()"
   ]
  },
  {
   "cell_type": "code",
   "execution_count": null,
   "metadata": {},
   "outputs": [],
   "source": [
    "print(\"Shape of Dataset = {}\".format(df.shape))"
   ]
  },
  {
   "cell_type": "code",
   "execution_count": null,
   "metadata": {},
   "outputs": [],
   "source": [
    "list(df.columns)"
   ]
  },
  {
   "cell_type": "markdown",
   "metadata": {},
   "source": [
    "# Data Cleaning prior to Exploration"
   ]
  },
  {
   "cell_type": "markdown",
   "metadata": {},
   "source": [
    "There are several data cleaning steps that need to be performed:\n",
    "\n",
    "1) There isn't enough data to identify each playground Id separately but we can extract the Borough information as a categorical variable <br/>\n",
    "2) We need to convert the AGI to ordinal values <br/>\n",
    "3) We need to convert Accessible and Adaptible Swing to numeric values <br/>\n",
    "4) We will drop the name and location columns <br/>\n",
    "5) We will drop any columns on volunteer prepared taxes <br/>"
   ]
  },
  {
   "cell_type": "code",
   "execution_count": null,
   "metadata": {},
   "outputs": [],
   "source": [
    "df['Borough'] = [str(x)[0] for x in df.Playground_ID.values]\n",
    "convert_cols = {'Accessible': {'Y': 1, 'N': 0},\n",
    "                'Adaptive_Swing': {'Y': 1, 'N': 0}}#,\n",
    "              # 'adjusted_gross_income': {'':0, '$1 under $25,000':1, '$25,000 under $50,000': 2, '$50,000 under $75,000':3, \n",
    "              #                          '$75,000 under $100,000':4, '$100,000 under $200,000':5, '$200,000 or more':6}}\n",
    "df.replace(convert_cols, inplace = True)"
   ]
  },
  {
   "cell_type": "code",
   "execution_count": null,
   "metadata": {},
   "outputs": [],
   "source": [
    "COLSCONVERT = ['Adaptive_Swing', 'num_of_exemptions',\n",
    "       'Accessible', 'num_of_dependents', 'num_of_returns',\n",
    "       'num_of_joint_returns', 'num_of_head_of_household_returns',\n",
    "       'num_of_single_returns']\n",
    "indexlist = []\n",
    "for col in COLSCONVERT:\n",
    "    indexlist = indexlist + list(df.loc[df[col]=='**'].index)\n",
    "df = df.drop(index= indexlist)\n",
    "df[COLSCONVERT] = df[COLSCONVERT].apply(pd.to_numeric)\n",
    "df.replace({'Level': {None:0, '1':0, '2':0, '3':0, '4':1}}, inplace=True)"
   ]
  },
  {
   "cell_type": "code",
   "execution_count": null,
   "metadata": {},
   "outputs": [],
   "source": [
    "COLS_TO_DROP = ['lat', 'lon', 'Playground_ID', 'Name', 'Location', 'Prop_ID','num_of_volunteer_prepared_returns_Total',\n",
    "                  'num_of_volunteer_prepared_returns_Num_of_volunteer_income_tax_assistance_prepared_returns',\n",
    "                 'num_with_paid_preparers_signature','num_of_volunteer_prepared_returns_Num_of_tax_counseling_for_the_elderly_prepared_returns', \n",
    "                'zipcode','School_ID','Status']\n",
    "df = df.drop(columns = COLS_TO_DROP)"
   ]
  },
  {
   "cell_type": "code",
   "execution_count": null,
   "metadata": {},
   "outputs": [],
   "source": [
    "# let's save this dataframe at this stage as a separate dataframe for AutoPilot\n",
    "autodf = df"
   ]
  },
  {
   "cell_type": "markdown",
   "metadata": {},
   "source": [
    "Mark everything with Level 4 as 1, and else 0. Why have we done this?\n",
    "\n",
    "Look at the graph below. It shows that most playgrounds in NYC are classified as Level 4 playgrounds.  Level 4 means Accessible Playgrounds with Transfer Platforms and Ground Level Play Features; and thus represents the most sophisticated playgrounds.\n",
    "\n",
    "We want to predict whether a given Playground ID in a given school district, given demographic information about the income levels of households in that zipcode is a Level 4 playground or not. "
   ]
  },
  {
   "cell_type": "code",
   "execution_count": null,
   "metadata": {
    "scrolled": true
   },
   "outputs": [],
   "source": [
    "sns.countplot(df.Level)"
   ]
  },
  {
   "cell_type": "code",
   "execution_count": null,
   "metadata": {},
   "outputs": [],
   "source": [
    "print(\"Baseline Model accuracy = {}\".format(len(df[df['Level']==1])/len(df)))"
   ]
  },
  {
   "cell_type": "code",
   "execution_count": null,
   "metadata": {},
   "outputs": [],
   "source": [
    "df.dropna(inplace=True)\n",
    "df.shape"
   ]
  },
  {
   "cell_type": "markdown",
   "metadata": {},
   "source": [
    "# Data Exploration\n",
    "\n",
    "Having converted the raw data into numerical format, we can explore the dataset and extract some meaningful information and look for any correlations in the data, which may be indicative of whether income is correlated to playground type"
   ]
  },
  {
   "cell_type": "code",
   "execution_count": 142,
   "metadata": {},
   "outputs": [
    {
     "data": {
      "image/png": "[encoded data removed]",
      "text/plain": [
       "<Figure size 432x288 with 1 Axes>"
      ]
     },
     "metadata": {},
     "output_type": "display_data"
    }
   ],
   "source": [
    "# Total returns versus AGI shows an overall trend that we need to normalize out. \n",
    "sns.barplot(x='size_of_adjusted_gross_income', y = 'num_of_returns', data = df)\n",
    "plt.title(\"Total Returns versus AGI\")\n",
    "plt.show()"
   ]
  },
  {
   "cell_type": "code",
   "execution_count": 143,
   "metadata": {
    "scrolled": true
   },
   "outputs": [
    {
     "data": {
      "image/png": "[encoded data removed]",
      "text/plain": [
       "<Figure size 432x288 with 1 Axes>"
      ]
     },
     "metadata": {},
     "output_type": "display_data"
    }
   ],
   "source": [
    "# Number of dependents versus number of exceptions\n",
    "sns.regplot(x = 'num_of_dependents', y = 'num_of_exemptions', data = df)\n",
    "plt.title(\"Scatter plot of dependents versus exceptions\")\n",
    "plt.show()"
   ]
  },
  {
   "cell_type": "code",
   "execution_count": 67,
   "metadata": {},
   "outputs": [],
   "source": [
    "# Introduce new columns which are the normalized number of joint, head of household and single returns\n",
    "COLS_TO_NORMALIZE = ['num_of_joint_returns', 'num_of_head_of_household_returns',\n",
    "       'num_of_single_returns']\n",
    "for col in COLS_TO_NORMALIZE:\n",
    "    df['normalized_'+ col] = df[col]/df['num_of_returns']"
   ]
  },
  {
   "cell_type": "code",
   "execution_count": 145,
   "metadata": {},
   "outputs": [
    {
     "data": {
      "image/png": "[encoded data removed]",
      "text/plain": [
       "<Figure size 432x288 with 1 Axes>"
      ]
     },
     "metadata": {},
     "output_type": "display_data"
    }
   ],
   "source": [
    "sns.barplot(x='size_of_adjusted_gross_income', y = 'normalized_num_of_head_of_household_returns', data = df)\n",
    "plt.title(\"AGI versus normalized HOH returns\")\n",
    "plt.show()"
   ]
  },
  {
   "cell_type": "code",
   "execution_count": 146,
   "metadata": {},
   "outputs": [
    {
     "data": {
      "image/png": "[encoded data removed]",
      "text/plain": [
       "<Figure size 432x288 with 1 Axes>"
      ]
     },
     "metadata": {},
     "output_type": "display_data"
    }
   ],
   "source": [
    "sns.barplot(x='Accessible', y = 'num_of_dependents', hue = 'Borough', data = df)\n",
    "plt.title(\"Playground Accessibility by number of dependents and Borough\")\n",
    "plt.show()"
   ]
  },
  {
   "cell_type": "code",
   "execution_count": 147,
   "metadata": {},
   "outputs": [
    {
     "data": {
      "image/png": "[encoded data removed]",
      "text/plain": [
       "<Figure size 432x288 with 1 Axes>"
      ]
     },
     "metadata": {},
     "output_type": "display_data"
    }
   ],
   "source": [
    "sns.boxplot(x = 'Accessible', y = 'normalized_num_of_joint_returns', hue = 'Borough', data = df)\n",
    "plt.title(\"Playground accessibility by normalized number of joint returns\")\n",
    "plt.show()"
   ]
  },
  {
   "cell_type": "code",
   "execution_count": 148,
   "metadata": {},
   "outputs": [
    {
     "data": {
      "image/png": "[encoded data removed]",
      "text/plain": [
       "<Figure size 432x288 with 1 Axes>"
      ]
     },
     "metadata": {},
     "output_type": "display_data"
    }
   ],
   "source": [
    "# Not much correlation between adjusted gross income level and number of available playgrounds. Certain zip codes simply\n",
    "# dont have any filers in the high income categories. \n",
    "sns.countplot(x = 'Level' , hue = 'size_of_adjusted_gross_income', data = df)\n",
    "plt.title(\"Distribution of Accessibility Levels by Income Accross all Boroughs\")\n",
    "plt.show()"
   ]
  },
  {
   "cell_type": "code",
   "execution_count": 149,
   "metadata": {},
   "outputs": [
    {
     "data": {
      "image/png": "[encoded data removed]",
      "text/plain": [
       "<Figure size 432x288 with 1 Axes>"
      ]
     },
     "metadata": {},
     "output_type": "display_data"
    }
   ],
   "source": [
    "# How does this play out at a Borough specific level? Let's look at Manhattan and Bronx\n",
    "bordf = df[df['Borough']=='X']\n",
    "sns.countplot(x = 'Level', hue = 'size_of_adjusted_gross_income', data = bordf)\n",
    "plt.title(\"Distribution of Accessibility Levels by Income in the Bronx\")\n",
    "plt.show()"
   ]
  },
  {
   "cell_type": "code",
   "execution_count": 124,
   "metadata": {},
   "outputs": [
    {
     "data": {
      "image/png": "[encoded data removed]",
      "text/plain": [
       "<Figure size 432x288 with 1 Axes>"
      ]
     },
     "metadata": {},
     "output_type": "display_data"
    }
   ],
   "source": [
    "sns.countplot(x = 'size_of_adjusted_gross_income', hue = 'Level', data = bordf)\n",
    "plt.title(\"Distribution of Accessibility Levels by Income in the Manhattan\")\n",
    "plt.show()"
   ]
  },
  {
   "cell_type": "code",
   "execution_count": 150,
   "metadata": {},
   "outputs": [
    {
     "data": {
      "image/png": "[encoded data removed]",
      "text/plain": [
       "<Figure size 432x288 with 1 Axes>"
      ]
     },
     "metadata": {},
     "output_type": "display_data"
    }
   ],
   "source": [
    "# How does this play out at a Borough specific level? Let's look at Manhattan and Bronx\n",
    "bordf = df[df['Borough']=='M']\n",
    "sns.countplot(x = 'Level', hue = 'size_of_adjusted_gross_income', data = bordf)\n",
    "plt.title(\"Distribution of Accessibility Levels by Income in the Manhattan\")\n",
    "plt.show()"
   ]
  },
  {
   "cell_type": "code",
   "execution_count": 151,
   "metadata": {},
   "outputs": [
    {
     "data": {
      "image/png": "[encoded data removed]",
      "text/plain": [
       "<Figure size 432x288 with 1 Axes>"
      ]
     },
     "metadata": {},
     "output_type": "display_data"
    }
   ],
   "source": [
    "sns.countplot(x = 'size_of_adjusted_gross_income', hue = 'Level', data = bordf)\n",
    "plt.title(\"Distribution of Accessibility Levels by Income in the Manhattan\")\n",
    "plt.show()"
   ]
  },
  {
   "cell_type": "markdown",
   "metadata": {},
   "source": [
    "The second plot in each Borough category shows that the availability distribution of playgrounds is almost identical accross all income groups, suggesting that these variables are not strongly correlated"
   ]
  },
  {
   "cell_type": "code",
   "execution_count": 68,
   "metadata": {},
   "outputs": [
    {
     "data": {
      "image/png": "[encoded data removed]",
      "text/plain": [
       "<Figure size 432x288 with 2 Axes>"
      ]
     },
     "metadata": {},
     "output_type": "display_data"
    }
   ],
   "source": [
    "# Make a correlation plot to confirm. Convert the Level column to numeric\n",
    "df['Level'] = df.Level.astype('float32')\n",
    "sns.heatmap(df.corr())\n",
    "plt.title('Correlation Matrix Plot showing different features and their correlation with each other')\n",
    "plt.show()"
   ]
  },
  {
   "cell_type": "code",
   "execution_count": 69,
   "metadata": {},
   "outputs": [
    {
     "data": {
      "text/plain": [
       "Accessible                                     0.076418\n",
       "Adaptive_Swing                                -0.572829\n",
       "Level                                          1.000000\n",
       "num_of_returns                                 0.004581\n",
       "num_of_single_returns                         -0.000939\n",
       "size_of_adjusted_gross_income                  0.000000\n",
       "num_of_head_of_household_returns               0.014223\n",
       "num_of_exemptions                              0.009715\n",
       "num_of_joint_returns                           0.005316\n",
       "num_of_dependents                              0.017000\n",
       "normalized_num_of_joint_returns                0.010519\n",
       "normalized_num_of_head_of_household_returns    0.029707\n",
       "normalized_num_of_single_returns              -0.033173\n",
       "Name: Level, dtype: float64"
      ]
     },
     "execution_count": 69,
     "metadata": {},
     "output_type": "execute_result"
    }
   ],
   "source": [
    "df.corr().Level"
   ]
  },
  {
   "cell_type": "markdown",
   "metadata": {},
   "source": [
    "# Data Preprocessing\n",
    "\n",
    "For further preparation of the data for ML, we need to drop some more columns:\n",
    "1) We have subsumed the accessibility column under level, so we can drop that. Remember that anything that was not wheelchair accessible is classifed as Level 0 <br/>\n",
    "\n",
    "2) The adaptive swing column is correlated to Level 0 -- Not accessible, and can help pick that out. <br/> \n",
    "\n",
    "3) We will only keep the normalized columns for joint, HOH and Single returns and drop the unnormalized ones. <br/>\n",
    "\n",
    "4) We will keep the total number of returns column <br/> \n",
    "\n",
    "5) SInce the total returns is a pretty large number, we will standardize the columns as well <br/>\n"
   ]
  },
  {
   "cell_type": "markdown",
   "metadata": {},
   "source": [
    "# Machine Learning modeling\n",
    "\n",
    "Here we will try to predict the level of playground based on the data available.\n",
    "For any ML model, we need to provide the label column first. Let's drop some of the fields above and prepare the data for ML training in SageMaker"
   ]
  },
  {
   "cell_type": "code",
   "execution_count": 70,
   "metadata": {},
   "outputs": [],
   "source": [
    "final_df = df.drop(columns =['Accessible', 'num_of_returns', \n",
    "                             'num_of_dependents','num_of_joint_returns', 'num_of_head_of_household_returns',\n",
    "                             'num_of_single_returns'])"
   ]
  },
  {
   "cell_type": "code",
   "execution_count": 71,
   "metadata": {},
   "outputs": [
    {
     "data": {
      "text/plain": [
       "(4590, 8)"
      ]
     },
     "execution_count": 71,
     "metadata": {},
     "output_type": "execute_result"
    }
   ],
   "source": [
    "final_df.shape"
   ]
  },
  {
   "cell_type": "code",
   "execution_count": 72,
   "metadata": {},
   "outputs": [],
   "source": [
    "final_df = pd.get_dummies(final_df)\n",
    "df1 = final_df.Level\n",
    "df2 = final_df.drop(columns = 'Level')\n",
    "final_df = pd.concat([df1, df2], axis = 1)\n",
    "final_df.dropna(inplace=True)"
   ]
  },
  {
   "cell_type": "code",
   "execution_count": 73,
   "metadata": {},
   "outputs": [
    {
     "data": {
      "text/plain": [
       "(4564, 13)"
      ]
     },
     "execution_count": 73,
     "metadata": {},
     "output_type": "execute_result"
    }
   ],
   "source": [
    "final_df.shape"
   ]
  },
  {
   "cell_type": "code",
   "execution_count": 74,
   "metadata": {},
   "outputs": [
    {
     "data": {
      "text/plain": [
       "<matplotlib.axes._subplots.AxesSubplot at 0x7ff4dd74de80>"
      ]
     },
     "execution_count": 74,
     "metadata": {},
     "output_type": "execute_result"
    },
    {
     "data": {
      "image/png": "[encoded data removed]",
      "text/plain": [
       "<Figure size 432x288 with 1 Axes>"
      ]
     },
     "metadata": {},
     "output_type": "display_data"
    }
   ],
   "source": [
    "X_train, X_test = train_test_split(final_df, test_size = 0.2, random_state = 42)\n",
    "sns.countplot(X_test.Level)"
   ]
  },
  {
   "cell_type": "code",
   "execution_count": 75,
   "metadata": {},
   "outputs": [
    {
     "data": {
      "text/html": [
       "<div>\n",
       "<style scoped>\n",
       "    .dataframe tbody tr th:only-of-type {\n",
       "        vertical-align: middle;\n",
       "    }\n",
       "\n",
       "    .dataframe tbody tr th {\n",
       "        vertical-align: top;\n",
       "    }\n",
       "\n",
       "    .dataframe thead th {\n",
       "        text-align: right;\n",
       "    }\n",
       "</style>\n",
       "<table border=\"1\" class=\"dataframe\">\n",
       "  <thead>\n",
       "    <tr style=\"text-align: right;\">\n",
       "      <th></th>\n",
       "      <th>Level</th>\n",
       "      <th>Adaptive_Swing</th>\n",
       "      <th>size_of_adjusted_gross_income</th>\n",
       "      <th>num_of_exemptions</th>\n",
       "      <th>normalized_num_of_joint_returns</th>\n",
       "      <th>normalized_num_of_head_of_household_returns</th>\n",
       "      <th>normalized_num_of_single_returns</th>\n",
       "      <th>Borough_B</th>\n",
       "      <th>Borough_M</th>\n",
       "      <th>Borough_N</th>\n",
       "      <th>Borough_Q</th>\n",
       "      <th>Borough_R</th>\n",
       "      <th>Borough_X</th>\n",
       "    </tr>\n",
       "  </thead>\n",
       "  <tbody>\n",
       "    <tr>\n",
       "      <th>3848</th>\n",
       "      <td>1.0</td>\n",
       "      <td>0.0</td>\n",
       "      <td>4.0</td>\n",
       "      <td>1620.0</td>\n",
       "      <td>0.111940</td>\n",
       "      <td>0.029851</td>\n",
       "      <td>0.820896</td>\n",
       "      <td>0</td>\n",
       "      <td>1</td>\n",
       "      <td>0</td>\n",
       "      <td>0</td>\n",
       "      <td>0</td>\n",
       "      <td>0</td>\n",
       "    </tr>\n",
       "    <tr>\n",
       "      <th>1207</th>\n",
       "      <td>1.0</td>\n",
       "      <td>0.0</td>\n",
       "      <td>1.0</td>\n",
       "      <td>19010.0</td>\n",
       "      <td>0.076699</td>\n",
       "      <td>0.344660</td>\n",
       "      <td>0.570874</td>\n",
       "      <td>0</td>\n",
       "      <td>0</td>\n",
       "      <td>0</td>\n",
       "      <td>0</td>\n",
       "      <td>0</td>\n",
       "      <td>1</td>\n",
       "    </tr>\n",
       "    <tr>\n",
       "      <th>5272</th>\n",
       "      <td>0.0</td>\n",
       "      <td>1.0</td>\n",
       "      <td>6.0</td>\n",
       "      <td>40.0</td>\n",
       "      <td>0.000000</td>\n",
       "      <td>0.000000</td>\n",
       "      <td>0.000000</td>\n",
       "      <td>0</td>\n",
       "      <td>0</td>\n",
       "      <td>0</td>\n",
       "      <td>0</td>\n",
       "      <td>0</td>\n",
       "      <td>1</td>\n",
       "    </tr>\n",
       "    <tr>\n",
       "      <th>241</th>\n",
       "      <td>1.0</td>\n",
       "      <td>0.0</td>\n",
       "      <td>3.0</td>\n",
       "      <td>7640.0</td>\n",
       "      <td>0.113379</td>\n",
       "      <td>0.371882</td>\n",
       "      <td>0.485261</td>\n",
       "      <td>1</td>\n",
       "      <td>0</td>\n",
       "      <td>0</td>\n",
       "      <td>0</td>\n",
       "      <td>0</td>\n",
       "      <td>0</td>\n",
       "    </tr>\n",
       "    <tr>\n",
       "      <th>993</th>\n",
       "      <td>1.0</td>\n",
       "      <td>0.0</td>\n",
       "      <td>5.0</td>\n",
       "      <td>3510.0</td>\n",
       "      <td>0.466216</td>\n",
       "      <td>0.297297</td>\n",
       "      <td>0.229730</td>\n",
       "      <td>0</td>\n",
       "      <td>0</td>\n",
       "      <td>0</td>\n",
       "      <td>1</td>\n",
       "      <td>0</td>\n",
       "      <td>0</td>\n",
       "    </tr>\n",
       "  </tbody>\n",
       "</table>\n",
       "</div>"
      ],
      "text/plain": [
       "      Level  Adaptive_Swing  size_of_adjusted_gross_income  num_of_exemptions  \\\n",
       "3848    1.0             0.0                            4.0             1620.0   \n",
       "1207    1.0             0.0                            1.0            19010.0   \n",
       "5272    0.0             1.0                            6.0               40.0   \n",
       "241     1.0             0.0                            3.0             7640.0   \n",
       "993     1.0             0.0                            5.0             3510.0   \n",
       "\n",
       "      normalized_num_of_joint_returns  \\\n",
       "3848                         0.111940   \n",
       "1207                         0.076699   \n",
       "5272                         0.000000   \n",
       "241                          0.113379   \n",
       "993                          0.466216   \n",
       "\n",
       "      normalized_num_of_head_of_household_returns  \\\n",
       "3848                                     0.029851   \n",
       "1207                                     0.344660   \n",
       "5272                                     0.000000   \n",
       "241                                      0.371882   \n",
       "993                                      0.297297   \n",
       "\n",
       "      normalized_num_of_single_returns  Borough_B  Borough_M  Borough_N  \\\n",
       "3848                          0.820896          0          1          0   \n",
       "1207                          0.570874          0          0          0   \n",
       "5272                          0.000000          0          0          0   \n",
       "241                           0.485261          1          0          0   \n",
       "993                           0.229730          0          0          0   \n",
       "\n",
       "      Borough_Q  Borough_R  Borough_X  \n",
       "3848          0          0          0  \n",
       "1207          0          0          1  \n",
       "5272          0          0          1  \n",
       "241           0          0          0  \n",
       "993           1          0          0  "
      ]
     },
     "execution_count": 75,
     "metadata": {},
     "output_type": "execute_result"
    }
   ],
   "source": [
    "X_train.head()"
   ]
  },
  {
   "cell_type": "code",
   "execution_count": 102,
   "metadata": {},
   "outputs": [
    {
     "data": {
      "text/plain": [
       "Level                                          False\n",
       "Adaptive_Swing                                 False\n",
       "size_of_adjusted_gross_income                  False\n",
       "num_of_exemptions                              False\n",
       "normalized_num_of_joint_returns                False\n",
       "normalized_num_of_head_of_household_returns    False\n",
       "normalized_num_of_single_returns               False\n",
       "Borough_B                                      False\n",
       "Borough_M                                      False\n",
       "Borough_N                                      False\n",
       "Borough_Q                                      False\n",
       "Borough_R                                      False\n",
       "Borough_X                                      False\n",
       "dtype: bool"
      ]
     },
     "execution_count": 102,
     "metadata": {},
     "output_type": "execute_result"
    }
   ],
   "source": [
    "X_train.isnull().any()\n"
   ]
  },
  {
   "cell_type": "markdown",
   "metadata": {},
   "source": [
    "Upload Training data to S3"
   ]
  },
  {
   "cell_type": "code",
   "execution_count": 103,
   "metadata": {},
   "outputs": [],
   "source": [
    "role = get_execution_role()\n",
    "session = sagemaker.Session()\n",
    "bucket = session.default_bucket() # you can replace with this your own bucket name\n",
    "prefix = 'sagemaker/accessibility'\n",
    "\n",
    "train_file = 'train.csv'\n",
    "X_train.to_csv(train_file,index=False,header=False)\n",
    "boto3.Session().resource('s3').Bucket(bucket).Object(os.path.join(prefix, 'train/train.csv')).upload_file('train.csv')\n",
    "train_data = sagemaker.session.s3_input('s3://{}/{}/train'.format(bucket, prefix), \n",
    "                                        content_type='csv')"
   ]
  },
  {
   "cell_type": "code",
   "execution_count": 104,
   "metadata": {},
   "outputs": [],
   "source": [
    "container = get_image_uri(boto3.Session().region_name, 'xgboost', '0.90-1')\n"
   ]
  },
  {
   "cell_type": "code",
   "execution_count": 105,
   "metadata": {},
   "outputs": [
    {
     "name": "stdout",
     "output_type": "stream",
     "text": [
      "training artifacts will be uploaded to: s3://sagemaker-us-east-1-389535300735/sagemaker/accessibility/output\n"
     ]
    }
   ],
   "source": [
    "output_location = 's3://{}/{}/output'.format(bucket, prefix)\n",
    "print('training artifacts will be uploaded to: {}'.format(output_location))\n"
   ]
  },
  {
   "cell_type": "code",
   "execution_count": 106,
   "metadata": {},
   "outputs": [
    {
     "name": "stdout",
     "output_type": "stream",
     "text": [
      "2019-12-23 19:06:32 Starting - Starting the training job...\n",
      "2019-12-23 19:06:34 Starting - Launching requested ML instances......\n",
      "2019-12-23 19:07:39 Starting - Preparing the instances for training......\n",
      "2019-12-23 19:08:59 Downloading - Downloading input data\n",
      "2019-12-23 19:08:59 Training - Downloading the training image...\n",
      "2019-12-23 19:09:32 Uploading - Uploading generated training model.\u001b[31mINFO:sagemaker-containers:Imported framework sagemaker_xgboost_container.training\u001b[0m\n",
      "\u001b[31mINFO:sagemaker-containers:Failed to parse hyperparameter objective value binary:logistic to Json.\u001b[0m\n",
      "\u001b[31mReturning the value itself\u001b[0m\n",
      "\u001b[31mINFO:sagemaker-containers:No GPUs detected (normal if no gpus installed)\u001b[0m\n",
      "\u001b[31mINFO:sagemaker_xgboost_container.training:Running XGBoost Sagemaker in algorithm mode\u001b[0m\n",
      "\u001b[31mINFO:root:Determined delimiter of CSV input is ','\u001b[0m\n",
      "\u001b[31mINFO:root:Determined delimiter of CSV input is ','\u001b[0m\n",
      "\u001b[31mINFO:root:Determined delimiter of CSV input is ','\u001b[0m\n",
      "\u001b[31m[19:09:29] 3651x12 matrix with 43812 entries loaded from /opt/ml/input/data/train?format=csv&label_column=0&delimiter=,\u001b[0m\n",
      "\u001b[31mINFO:root:Determined delimiter of CSV input is ','\u001b[0m\n",
      "\u001b[31m[19:09:29] 3651x12 matrix with 43812 entries loaded from /opt/ml/input/data/validation?format=csv&label_column=0&delimiter=,\u001b[0m\n",
      "\u001b[31mINFO:root:Single node training.\u001b[0m\n",
      "\u001b[31mINFO:root:Train matrix has 3651 rows\u001b[0m\n",
      "\u001b[31mINFO:root:Validation matrix has 3651 rows\u001b[0m\n",
      "\u001b[31m[0]#011train-error:0.178307#011validation-error:0.178307\u001b[0m\n",
      "\u001b[31m[1]#011train-error:0.178307#011validation-error:0.178307\u001b[0m\n",
      "\u001b[31m[2]#011train-error:0.178307#011validation-error:0.178307\u001b[0m\n",
      "\u001b[31m[3]#011train-error:0.178307#011validation-error:0.178307\u001b[0m\n",
      "\u001b[31m[4]#011train-error:0.178307#011validation-error:0.178307\u001b[0m\n",
      "\u001b[31m[5]#011train-error:0.178307#011validation-error:0.178307\u001b[0m\n",
      "\u001b[31m[6]#011train-error:0.178307#011validation-error:0.178307\u001b[0m\n",
      "\u001b[31m[7]#011train-error:0.178307#011validation-error:0.178307\u001b[0m\n",
      "\u001b[31m[8]#011train-error:0.178307#011validation-error:0.178307\u001b[0m\n",
      "\u001b[31m[9]#011train-error:0.178307#011validation-error:0.178307\u001b[0m\n",
      "\u001b[31m[10]#011train-error:0.178307#011validation-error:0.178307\u001b[0m\n",
      "\u001b[31m[11]#011train-error:0.178307#011validation-error:0.178307\u001b[0m\n",
      "\u001b[31m[12]#011train-error:0.178307#011validation-error:0.178307\u001b[0m\n",
      "\u001b[31m[13]#011train-error:0.178307#011validation-error:0.178307\u001b[0m\n",
      "\u001b[31m[14]#011train-error:0.178307#011validation-error:0.178307\u001b[0m\n",
      "\u001b[31m[15]#011train-error:0.178307#011validation-error:0.178307\u001b[0m\n",
      "\u001b[31m[16]#011train-error:0.178307#011validation-error:0.178307\u001b[0m\n",
      "\u001b[31m[17]#011train-error:0.177486#011validation-error:0.177486\u001b[0m\n",
      "\u001b[31m[18]#011train-error:0.177486#011validation-error:0.177486\u001b[0m\n",
      "\u001b[31m[19]#011train-error:0.177486#011validation-error:0.177486\u001b[0m\n",
      "\u001b[31m[20]#011train-error:0.177486#011validation-error:0.177486\u001b[0m\n",
      "\u001b[31m[21]#011train-error:0.177486#011validation-error:0.177486\u001b[0m\n",
      "\u001b[31m[22]#011train-error:0.177486#011validation-error:0.177486\u001b[0m\n",
      "\u001b[31m[23]#011train-error:0.177486#011validation-error:0.177486\u001b[0m\n",
      "\u001b[31m[24]#011train-error:0.177486#011validation-error:0.177486\u001b[0m\n",
      "\u001b[31m[25]#011train-error:0.177486#011validation-error:0.177486\u001b[0m\n",
      "\u001b[31m[26]#011train-error:0.177486#011validation-error:0.177486\u001b[0m\n",
      "\u001b[31m[27]#011train-error:0.177486#011validation-error:0.177486\u001b[0m\n",
      "\u001b[31m[28]#011train-error:0.176664#011validation-error:0.176664\u001b[0m\n",
      "\u001b[31m[29]#011train-error:0.176664#011validation-error:0.176664\u001b[0m\n",
      "\u001b[31m[30]#011train-error:0.176664#011validation-error:0.176664\u001b[0m\n",
      "\u001b[31m[31]#011train-error:0.176664#011validation-error:0.176664\u001b[0m\n",
      "\u001b[31m[32]#011train-error:0.176664#011validation-error:0.176664\u001b[0m\n",
      "\u001b[31m[33]#011train-error:0.176664#011validation-error:0.176664\u001b[0m\n",
      "\u001b[31m[34]#011train-error:0.176664#011validation-error:0.176664\u001b[0m\n",
      "\u001b[31m[35]#011train-error:0.176664#011validation-error:0.176664\u001b[0m\n",
      "\u001b[31m[36]#011train-error:0.176664#011validation-error:0.176664\u001b[0m\n",
      "\u001b[31m[37]#011train-error:0.176664#011validation-error:0.176664\u001b[0m\n",
      "\u001b[31m[38]#011train-error:0.176664#011validation-error:0.176664\u001b[0m\n",
      "\u001b[31m[39]#011train-error:0.176664#011validation-error:0.176664\u001b[0m\n",
      "\u001b[31m[40]#011train-error:0.176664#011validation-error:0.176664\u001b[0m\n",
      "\u001b[31m[41]#011train-error:0.176664#011validation-error:0.176664\u001b[0m\n",
      "\u001b[31m[42]#011train-error:0.176664#011validation-error:0.176664\u001b[0m\n",
      "\u001b[31m[43]#011train-error:0.176116#011validation-error:0.176116\u001b[0m\n",
      "\u001b[31m[44]#011train-error:0.176116#011validation-error:0.176116\u001b[0m\n",
      "\u001b[31m[45]#011train-error:0.176116#011validation-error:0.176116\u001b[0m\n",
      "\u001b[31m[46]#011train-error:0.176116#011validation-error:0.176116\u001b[0m\n",
      "\u001b[31m[47]#011train-error:0.176116#011validation-error:0.176116\u001b[0m\n",
      "\u001b[31m[48]#011train-error:0.176116#011validation-error:0.176116\u001b[0m\n",
      "\u001b[31m[49]#011train-error:0.176116#011validation-error:0.176116\u001b[0m\n",
      "\u001b[31m[50]#011train-error:0.176116#011validation-error:0.176116\u001b[0m\n",
      "\u001b[31m[51]#011train-error:0.176664#011validation-error:0.176664\u001b[0m\n",
      "\u001b[31m[52]#011train-error:0.176116#011validation-error:0.176116\u001b[0m\n",
      "\u001b[31m[53]#011train-error:0.176116#011validation-error:0.176116\u001b[0m\n",
      "\u001b[31m[54]#011train-error:0.176116#011validation-error:0.176116\u001b[0m\n",
      "\u001b[31m[55]#011train-error:0.176116#011validation-error:0.176116\u001b[0m\n",
      "\u001b[31m[56]#011train-error:0.176116#011validation-error:0.176116\u001b[0m\n",
      "\u001b[31m[57]#011train-error:0.176116#011validation-error:0.176116\u001b[0m\n",
      "\u001b[31m[58]#011train-error:0.176116#011validation-error:0.176116\u001b[0m\n",
      "\u001b[31m[59]#011train-error:0.176664#011validation-error:0.176664\u001b[0m\n",
      "\u001b[31m[60]#011train-error:0.176664#011validation-error:0.176664\u001b[0m\n",
      "\u001b[31m[61]#011train-error:0.176664#011validation-error:0.176664\u001b[0m\n",
      "\u001b[31m[62]#011train-error:0.176664#011validation-error:0.176664\u001b[0m\n",
      "\u001b[31m[63]#011train-error:0.176664#011validation-error:0.176664\u001b[0m\n",
      "\u001b[31m[64]#011train-error:0.176664#011validation-error:0.176664\u001b[0m\n",
      "\u001b[31m[65]#011train-error:0.176664#011validation-error:0.176664\u001b[0m\n",
      "\u001b[31m[66]#011train-error:0.176664#011validation-error:0.176664\u001b[0m\n",
      "\u001b[31m[67]#011train-error:0.176664#011validation-error:0.176664\u001b[0m\n",
      "\u001b[31m[68]#011train-error:0.176664#011validation-error:0.176664\u001b[0m\n",
      "\u001b[31m[69]#011train-error:0.176664#011validation-error:0.176664\u001b[0m\n",
      "\u001b[31m[70]#011train-error:0.176664#011validation-error:0.176664\u001b[0m\n",
      "\u001b[31m[71]#011train-error:0.176116#011validation-error:0.176116\u001b[0m\n",
      "\u001b[31m[72]#011train-error:0.176116#011validation-error:0.176116\u001b[0m\n",
      "\u001b[31m[73]#011train-error:0.176116#011validation-error:0.176116\u001b[0m\n",
      "\u001b[31m[74]#011train-error:0.176116#011validation-error:0.176116\u001b[0m\n",
      "\u001b[31m[75]#011train-error:0.176664#011validation-error:0.176664\u001b[0m\n",
      "\u001b[31m[76]#011train-error:0.176664#011validation-error:0.176664\u001b[0m\n",
      "\u001b[31m[77]#011train-error:0.176664#011validation-error:0.176664\u001b[0m\n",
      "\u001b[31m[78]#011train-error:0.176116#011validation-error:0.176116\u001b[0m\n",
      "\u001b[31m[79]#011train-error:0.176116#011validation-error:0.176116\u001b[0m\n",
      "\u001b[31m[80]#011train-error:0.176116#011validation-error:0.176116\u001b[0m\n",
      "\u001b[31m[81]#011train-error:0.176116#011validation-error:0.176116\u001b[0m\n",
      "\u001b[31m[82]#011train-error:0.176116#011validation-error:0.176116\u001b[0m\n",
      "\u001b[31m[83]#011train-error:0.176116#011validation-error:0.176116\u001b[0m\n",
      "\u001b[31m[84]#011train-error:0.176116#011validation-error:0.176116\u001b[0m\n",
      "\u001b[31m[85]#011train-error:0.176116#011validation-error:0.176116\u001b[0m\n",
      "\u001b[31m[86]#011train-error:0.176116#011validation-error:0.176116\u001b[0m\n",
      "\u001b[31m[87]#011train-error:0.176116#011validation-error:0.176116\u001b[0m\n",
      "\u001b[31m[88]#011train-error:0.176116#011validation-error:0.176116\u001b[0m\n",
      "\u001b[31m[89]#011train-error:0.176116#011validation-error:0.176116\u001b[0m\n",
      "\u001b[31m[90]#011train-error:0.175568#011validation-error:0.175568\u001b[0m\n",
      "\u001b[31m[91]#011train-error:0.175568#011validation-error:0.175568\u001b[0m\n",
      "\u001b[31m[92]#011train-error:0.175568#011validation-error:0.175568\u001b[0m\n",
      "\u001b[31m[93]#011train-error:0.176116#011validation-error:0.176116\u001b[0m\n",
      "\u001b[31m[94]#011train-error:0.176116#011validation-error:0.176116\u001b[0m\n",
      "\u001b[31m[95]#011train-error:0.176116#011validation-error:0.176116\u001b[0m\n",
      "\u001b[31m[96]#011train-error:0.176116#011validation-error:0.176116\u001b[0m\n",
      "\u001b[31m[97]#011train-error:0.176116#011validation-error:0.176116\u001b[0m\n",
      "\u001b[31m[98]#011train-error:0.176116#011validation-error:0.176116\u001b[0m\n",
      "\u001b[31m[99]#011train-error:0.175568#011validation-error:0.175568\u001b[0m\n",
      "\n",
      "2019-12-23 19:09:39 Completed - Training job completed\n",
      "Training seconds: 58\n",
      "Billable seconds: 58\n"
     ]
    }
   ],
   "source": [
    "sess = sagemaker.Session()\n",
    "\n",
    "xgb = sagemaker.estimator.Estimator(container,\n",
    "                                       role, \n",
    "                                       train_instance_count=1, \n",
    "                                       train_instance_type='ml.c4.xlarge',\n",
    "                                       output_path=output_location,\n",
    "                                       sagemaker_session=sess)\n",
    "\n",
    "xgb.set_hyperparameters(max_depth=5,\n",
    "                        eta=0.2,\n",
    "                        gamma=4,\n",
    "                        min_child_weight=6,\n",
    "                        subsample=0.8,\n",
    "                        silent=0,\n",
    "                        objective='binary:logistic',\n",
    "                        num_round=100)\n",
    "\n",
    "xgb.fit({'train': train_data, 'validation': train_data})"
   ]
  },
  {
   "cell_type": "markdown",
   "metadata": {},
   "source": [
    "# Using SageMaker Autopilot\n",
    "\n",
    "As you can see, training an ML model, feature engineering, preprocessing can take quite some time and be a fairly involved process. Let's see how we can use SageMaker Autopilot, which is SageMaker's built in AutoML feature to take the raw dataset, and train a bunch of ML models, and let AutoPilot take care of the preprocessing, feature engineering and model training all within a few simple API calls. "
   ]
  },
  {
   "cell_type": "markdown",
   "metadata": {},
   "source": [
    "Lets start by looking at autodf -- we will drop the accessibility column, since we have already incorporated that into Level. Note that to go from autodf to the final training dataset for XGBoost above we had to implement a sequence of feature engineering steps:\n",
    "\n",
    "1) We converted Borough columns to one hot encoding\n",
    "\n",
    "2) We dropped all the non normalized columns which are strongly correlated with the feature engineered normalized ones.\n",
    "\n",
    "3) We had to split the data randomly into training and test datasets which we uploaded separately to S3.\n",
    "\n",
    "4) We had to save the csv files locally without headers and indexes. \n",
    "\n",
    "5) While this is not required for XGBoost, we removed missing values. Linear learner algorithm for example doesn't accept missing values. \n",
    "\n",
    "Autopilot takes care of all the feature engineering steps for us. Simply feed in the initial dataframe as an input, save it as csv, point Autopilot to the dependent variable and it will take care of the rest"
   ]
  },
  {
   "cell_type": "code",
   "execution_count": 88,
   "metadata": {},
   "outputs": [
    {
     "data": {
      "text/html": [
       "<div>\n",
       "<style scoped>\n",
       "    .dataframe tbody tr th:only-of-type {\n",
       "        vertical-align: middle;\n",
       "    }\n",
       "\n",
       "    .dataframe tbody tr th {\n",
       "        vertical-align: top;\n",
       "    }\n",
       "\n",
       "    .dataframe thead th {\n",
       "        text-align: right;\n",
       "    }\n",
       "</style>\n",
       "<table border=\"1\" class=\"dataframe\">\n",
       "  <thead>\n",
       "    <tr style=\"text-align: right;\">\n",
       "      <th></th>\n",
       "      <th>Accessible</th>\n",
       "      <th>Adaptive_Swing</th>\n",
       "      <th>Level</th>\n",
       "      <th>num_of_returns</th>\n",
       "      <th>num_of_single_returns</th>\n",
       "      <th>size_of_adjusted_gross_income</th>\n",
       "      <th>num_of_head_of_household_returns</th>\n",
       "      <th>num_of_exemptions</th>\n",
       "      <th>num_of_joint_returns</th>\n",
       "      <th>num_of_dependents</th>\n",
       "      <th>Borough</th>\n",
       "    </tr>\n",
       "  </thead>\n",
       "  <tbody>\n",
       "    <tr>\n",
       "      <th>0</th>\n",
       "      <td>1.0</td>\n",
       "      <td>0.0</td>\n",
       "      <td>1</td>\n",
       "      <td>10120.0</td>\n",
       "      <td>6260.0</td>\n",
       "      <td>1.0</td>\n",
       "      <td>2310.0</td>\n",
       "      <td>16270.0</td>\n",
       "      <td>1380.0</td>\n",
       "      <td>5480.0</td>\n",
       "      <td>B</td>\n",
       "    </tr>\n",
       "    <tr>\n",
       "      <th>1</th>\n",
       "      <td>1.0</td>\n",
       "      <td>0.0</td>\n",
       "      <td>1</td>\n",
       "      <td>4890.0</td>\n",
       "      <td>2310.0</td>\n",
       "      <td>2.0</td>\n",
       "      <td>1510.0</td>\n",
       "      <td>9100.0</td>\n",
       "      <td>960.0</td>\n",
       "      <td>3260.0</td>\n",
       "      <td>B</td>\n",
       "    </tr>\n",
       "    <tr>\n",
       "      <th>2</th>\n",
       "      <td>1.0</td>\n",
       "      <td>0.0</td>\n",
       "      <td>1</td>\n",
       "      <td>2350.0</td>\n",
       "      <td>1050.0</td>\n",
       "      <td>3.0</td>\n",
       "      <td>580.0</td>\n",
       "      <td>4320.0</td>\n",
       "      <td>630.0</td>\n",
       "      <td>1350.0</td>\n",
       "      <td>B</td>\n",
       "    </tr>\n",
       "    <tr>\n",
       "      <th>3</th>\n",
       "      <td>1.0</td>\n",
       "      <td>0.0</td>\n",
       "      <td>1</td>\n",
       "      <td>1280.0</td>\n",
       "      <td>470.0</td>\n",
       "      <td>4.0</td>\n",
       "      <td>260.0</td>\n",
       "      <td>2490.0</td>\n",
       "      <td>520.0</td>\n",
       "      <td>700.0</td>\n",
       "      <td>B</td>\n",
       "    </tr>\n",
       "    <tr>\n",
       "      <th>4</th>\n",
       "      <td>1.0</td>\n",
       "      <td>0.0</td>\n",
       "      <td>1</td>\n",
       "      <td>1350.0</td>\n",
       "      <td>330.0</td>\n",
       "      <td>5.0</td>\n",
       "      <td>180.0</td>\n",
       "      <td>3100.0</td>\n",
       "      <td>810.0</td>\n",
       "      <td>950.0</td>\n",
       "      <td>B</td>\n",
       "    </tr>\n",
       "  </tbody>\n",
       "</table>\n",
       "</div>"
      ],
      "text/plain": [
       "   Accessible  Adaptive_Swing  Level  num_of_returns  num_of_single_returns  \\\n",
       "0         1.0             0.0      1         10120.0                 6260.0   \n",
       "1         1.0             0.0      1          4890.0                 2310.0   \n",
       "2         1.0             0.0      1          2350.0                 1050.0   \n",
       "3         1.0             0.0      1          1280.0                  470.0   \n",
       "4         1.0             0.0      1          1350.0                  330.0   \n",
       "\n",
       "   size_of_adjusted_gross_income  num_of_head_of_household_returns  \\\n",
       "0                            1.0                            2310.0   \n",
       "1                            2.0                            1510.0   \n",
       "2                            3.0                             580.0   \n",
       "3                            4.0                             260.0   \n",
       "4                            5.0                             180.0   \n",
       "\n",
       "   num_of_exemptions  num_of_joint_returns  num_of_dependents Borough  \n",
       "0            16270.0                1380.0             5480.0       B  \n",
       "1             9100.0                 960.0             3260.0       B  \n",
       "2             4320.0                 630.0             1350.0       B  \n",
       "3             2490.0                 520.0              700.0       B  \n",
       "4             3100.0                 810.0              950.0       B  "
      ]
     },
     "execution_count": 88,
     "metadata": {},
     "output_type": "execute_result"
    }
   ],
   "source": [
    "#look at the autodf dataframe again\n",
    "autodf.head()\n"
   ]
  },
  {
   "cell_type": "code",
   "execution_count": 89,
   "metadata": {},
   "outputs": [
    {
     "data": {
      "text/plain": [
       "Accessible                           True\n",
       "Adaptive_Swing                       True\n",
       "Level                               False\n",
       "num_of_returns                       True\n",
       "num_of_single_returns                True\n",
       "size_of_adjusted_gross_income        True\n",
       "num_of_head_of_household_returns     True\n",
       "num_of_exemptions                    True\n",
       "num_of_joint_returns                 True\n",
       "num_of_dependents                    True\n",
       "Borough                             False\n",
       "dtype: bool"
      ]
     },
     "execution_count": 89,
     "metadata": {},
     "output_type": "execute_result"
    }
   ],
   "source": [
    "# note that we have missing values in almost every column. We will drop those as AutoML doesn't support missing values\n",
    "#for now.\n",
    "autodf.isnull().any()"
   ]
  },
  {
   "cell_type": "code",
   "execution_count": 90,
   "metadata": {},
   "outputs": [
    {
     "name": "stdout",
     "output_type": "stream",
     "text": [
      "(4590, 11)\n",
      "Shape of test data = (459, 11)\n",
      "s3://sagemaker-us-east-1-389535300735/sagemaker/accessibility/input/automl-train.csv\n"
     ]
    }
   ],
   "source": [
    "#Load the autodf into s3 directly\n",
    "autodf.dropna(inplace=True)\n",
    "print(autodf.shape)\n",
    "autodf = autodf.sample(frac=1)\n",
    "\n",
    "#Let's take out a random sample for testing and set it aside\n",
    "test_sample = autodf[TRAIN_LENGTH:]\n",
    "print(\"Shape of test data = {}\".format(test_sample.shape))\n",
    "test_sample.drop(columns=['Accessible']).to_csv('automl-test.csv', index=False)\n",
    "\n",
    "\n",
    "autodf[:TRAIN_LENGTH].drop(columns=['Accessible']).to_csv('automl-train.csv', index= False)\n",
    "autotrainpath = session.upload_data(path=\"automl-train.csv\", key_prefix=prefix + \"/input\")\n",
    "print(autotrainpath)"
   ]
  },
  {
   "cell_type": "code",
   "execution_count": 91,
   "metadata": {},
   "outputs": [
    {
     "name": "stdout",
     "output_type": "stream",
     "text": [
      "[{'DataSource': {'S3DataSource': {'S3DataType': 'S3Prefix', 'S3Uri': 's3://sagemaker-us-east-1-389535300735/sagemaker/accessibility/input'}}, 'TargetAttributeName': 'Level'}]\n",
      "{'S3OutputPath': 's3://sagemaker-us-east-1-389535300735/sagemaker/accessibility/automloutput'}\n"
     ]
    }
   ],
   "source": [
    "# configure the AutoML job: specify the target attribute name and the location of the input file\n",
    "input_data_config = [{\n",
    "      'DataSource': {\n",
    "        'S3DataSource': {\n",
    "          'S3DataType': 'S3Prefix',\n",
    "          'S3Uri': 's3://{}/{}/input'.format(bucket,prefix)\n",
    "        }\n",
    "      },\n",
    "      'TargetAttributeName': 'Level'\n",
    "    \n",
    "    }\n",
    "  ]\n",
    "\n",
    "output_data_config = {\n",
    "    'S3OutputPath': 's3://{}/{}/automloutput'.format(bucket,prefix)\n",
    "  }\n",
    "print(input_data_config)\n",
    "print(output_data_config)"
   ]
  },
  {
   "cell_type": "code",
   "execution_count": 92,
   "metadata": {},
   "outputs": [],
   "source": [
    "from time import gmtime, strftime, sleep\n",
    "timestamp_suffix = strftime('%d-%H-%M-%S', gmtime())"
   ]
  },
  {
   "cell_type": "code",
   "execution_count": 93,
   "metadata": {},
   "outputs": [
    {
     "name": "stdout",
     "output_type": "stream",
     "text": [
      "AutoMLJobName: automl-dm-23-15-11-31\n"
     ]
    },
    {
     "data": {
      "text/plain": [
       "{'AutoMLJobArn': 'arn:aws:sagemaker:us-east-1:389535300735:automl-job/automl-dm-23-15-11-31',\n",
       " 'ResponseMetadata': {'RequestId': 'df06c6c1-7c0e-4cd8-81d3-40ca486679ff',\n",
       "  'HTTPStatusCode': 200,\n",
       "  'HTTPHeaders': {'x-amzn-requestid': 'df06c6c1-7c0e-4cd8-81d3-40ca486679ff',\n",
       "   'content-type': 'application/x-amz-json-1.1',\n",
       "   'content-length': '92',\n",
       "   'date': 'Mon, 23 Dec 2019 15:11:41 GMT'},\n",
       "  'RetryAttempts': 0}}"
      ]
     },
     "execution_count": 93,
     "metadata": {},
     "output_type": "execute_result"
    }
   ],
   "source": [
    "region = boto3.Session().region_name\n",
    "sm = boto3.Session().client(service_name='sagemaker',region_name=region)\n",
    "auto_ml_job_name = 'automl-dm-' + timestamp_suffix\n",
    "print('AutoMLJobName: ' + auto_ml_job_name)\n",
    "\n",
    "sm.create_auto_ml_job(AutoMLJobName=auto_ml_job_name,\n",
    "                      InputDataConfig=input_data_config,\n",
    "                      OutputDataConfig=output_data_config,\n",
    "                      RoleArn=role,\n",
    "                     ProblemType='BinaryClassification',\n",
    "                     AutoMLJobObjective = {'MetricName':'Accuracy'})"
   ]
  },
  {
   "cell_type": "code",
   "execution_count": 95,
   "metadata": {},
   "outputs": [
    {
     "name": "stdout",
     "output_type": "stream",
     "text": [
      "JobStatus - Secondary Status\n",
      "------------------------------\n",
      "InProgress - AnalyzingData\n",
      "InProgress - AnalyzingData\n",
      "InProgress - AnalyzingData\n",
      "InProgress - AnalyzingData\n",
      "InProgress - AnalyzingData\n",
      "InProgress - AnalyzingData\n",
      "InProgress - AnalyzingData\n",
      "InProgress - AnalyzingData\n",
      "InProgress - AnalyzingData\n",
      "InProgress - AnalyzingData\n",
      "InProgress - AnalyzingData\n",
      "InProgress - AnalyzingData\n",
      "InProgress - AnalyzingData\n",
      "InProgress - FeatureEngineering\n",
      "InProgress - FeatureEngineering\n",
      "InProgress - FeatureEngineering\n",
      "InProgress - FeatureEngineering\n",
      "InProgress - FeatureEngineering\n",
      "InProgress - FeatureEngineering\n",
      "InProgress - FeatureEngineering\n",
      "InProgress - FeatureEngineering\n",
      "InProgress - FeatureEngineering\n",
      "InProgress - FeatureEngineering\n",
      "InProgress - FeatureEngineering\n",
      "InProgress - FeatureEngineering\n",
      "InProgress - FeatureEngineering\n",
      "InProgress - FeatureEngineering\n",
      "InProgress - FeatureEngineering\n",
      "InProgress - FeatureEngineering\n",
      "InProgress - FeatureEngineering\n",
      "InProgress - FeatureEngineering\n",
      "InProgress - FeatureEngineering\n",
      "InProgress - FeatureEngineering\n",
      "InProgress - FeatureEngineering\n",
      "InProgress - FeatureEngineering\n",
      "InProgress - FeatureEngineering\n",
      "InProgress - FeatureEngineering\n",
      "InProgress - FeatureEngineering\n",
      "InProgress - FeatureEngineering\n",
      "InProgress - FeatureEngineering\n",
      "InProgress - FeatureEngineering\n",
      "InProgress - FeatureEngineering\n",
      "InProgress - FeatureEngineering\n",
      "InProgress - FeatureEngineering\n",
      "InProgress - FeatureEngineering\n",
      "InProgress - FeatureEngineering\n",
      "InProgress - FeatureEngineering\n",
      "InProgress - ModelTuning\n",
      "InProgress - ModelTuning\n",
      "InProgress - ModelTuning\n",
      "InProgress - ModelTuning\n",
      "InProgress - ModelTuning\n",
      "InProgress - ModelTuning\n",
      "InProgress - ModelTuning\n",
      "InProgress - ModelTuning\n",
      "InProgress - ModelTuning\n",
      "InProgress - ModelTuning\n",
      "InProgress - ModelTuning\n",
      "InProgress - ModelTuning\n",
      "InProgress - ModelTuning\n",
      "InProgress - ModelTuning\n",
      "InProgress - ModelTuning\n",
      "InProgress - ModelTuning\n",
      "InProgress - ModelTuning\n",
      "InProgress - ModelTuning\n",
      "InProgress - ModelTuning\n",
      "InProgress - ModelTuning\n",
      "InProgress - ModelTuning\n",
      "InProgress - ModelTuning\n",
      "InProgress - ModelTuning\n",
      "InProgress - ModelTuning\n",
      "InProgress - ModelTuning\n",
      "InProgress - ModelTuning\n",
      "InProgress - ModelTuning\n",
      "InProgress - ModelTuning\n",
      "InProgress - ModelTuning\n",
      "InProgress - ModelTuning\n",
      "InProgress - ModelTuning\n",
      "InProgress - ModelTuning\n",
      "InProgress - ModelTuning\n",
      "InProgress - ModelTuning\n",
      "InProgress - ModelTuning\n",
      "InProgress - ModelTuning\n",
      "InProgress - ModelTuning\n",
      "InProgress - ModelTuning\n",
      "InProgress - ModelTuning\n",
      "InProgress - ModelTuning\n",
      "InProgress - ModelTuning\n",
      "InProgress - ModelTuning\n",
      "InProgress - ModelTuning\n",
      "InProgress - ModelTuning\n",
      "InProgress - ModelTuning\n",
      "InProgress - ModelTuning\n",
      "InProgress - ModelTuning\n",
      "InProgress - ModelTuning\n",
      "InProgress - ModelTuning\n",
      "InProgress - ModelTuning\n",
      "InProgress - ModelTuning\n",
      "InProgress - ModelTuning\n",
      "InProgress - ModelTuning\n",
      "InProgress - ModelTuning\n",
      "InProgress - ModelTuning\n",
      "InProgress - ModelTuning\n",
      "InProgress - ModelTuning\n",
      "InProgress - ModelTuning\n",
      "InProgress - ModelTuning\n",
      "InProgress - ModelTuning\n",
      "InProgress - ModelTuning\n",
      "InProgress - ModelTuning\n",
      "InProgress - ModelTuning\n",
      "InProgress - ModelTuning\n",
      "InProgress - ModelTuning\n",
      "InProgress - ModelTuning\n",
      "InProgress - ModelTuning\n",
      "InProgress - ModelTuning\n",
      "InProgress - ModelTuning\n",
      "InProgress - ModelTuning\n",
      "InProgress - ModelTuning\n",
      "InProgress - ModelTuning\n",
      "InProgress - ModelTuning\n",
      "InProgress - ModelTuning\n",
      "InProgress - ModelTuning\n",
      "InProgress - ModelTuning\n",
      "InProgress - ModelTuning\n",
      "InProgress - ModelTuning\n",
      "InProgress - ModelTuning\n",
      "InProgress - ModelTuning\n",
      "InProgress - ModelTuning\n",
      "InProgress - ModelTuning\n",
      "InProgress - ModelTuning\n",
      "InProgress - ModelTuning\n",
      "InProgress - ModelTuning\n",
      "InProgress - ModelTuning\n",
      "InProgress - ModelTuning\n",
      "InProgress - ModelTuning\n",
      "InProgress - ModelTuning\n",
      "InProgress - ModelTuning\n",
      "InProgress - ModelTuning\n",
      "InProgress - ModelTuning\n",
      "InProgress - ModelTuning\n",
      "InProgress - ModelTuning\n",
      "InProgress - ModelTuning\n",
      "InProgress - ModelTuning\n",
      "InProgress - ModelTuning\n",
      "InProgress - ModelTuning\n",
      "InProgress - ModelTuning\n",
      "InProgress - ModelTuning\n",
      "InProgress - ModelTuning\n",
      "InProgress - ModelTuning\n",
      "InProgress - ModelTuning\n",
      "InProgress - ModelTuning\n",
      "InProgress - ModelTuning\n",
      "InProgress - ModelTuning\n",
      "InProgress - ModelTuning\n",
      "InProgress - ModelTuning\n",
      "InProgress - ModelTuning\n",
      "InProgress - ModelTuning\n",
      "InProgress - ModelTuning\n",
      "InProgress - ModelTuning\n",
      "InProgress - ModelTuning\n",
      "InProgress - ModelTuning\n",
      "InProgress - ModelTuning\n",
      "InProgress - ModelTuning\n",
      "InProgress - ModelTuning\n",
      "InProgress - ModelTuning\n",
      "InProgress - ModelTuning\n",
      "InProgress - ModelTuning\n",
      "InProgress - ModelTuning\n",
      "InProgress - ModelTuning\n",
      "InProgress - ModelTuning\n",
      "InProgress - ModelTuning\n",
      "InProgress - ModelTuning\n",
      "InProgress - ModelTuning\n",
      "InProgress - ModelTuning\n",
      "InProgress - ModelTuning\n",
      "InProgress - ModelTuning\n",
      "InProgress - ModelTuning\n",
      "InProgress - ModelTuning\n",
      "InProgress - ModelTuning\n",
      "InProgress - ModelTuning\n",
      "InProgress - ModelTuning\n",
      "InProgress - ModelTuning\n",
      "InProgress - ModelTuning\n",
      "InProgress - ModelTuning\n",
      "InProgress - ModelTuning\n",
      "InProgress - ModelTuning\n",
      "InProgress - ModelTuning\n",
      "InProgress - ModelTuning\n",
      "InProgress - ModelTuning\n",
      "InProgress - ModelTuning\n",
      "InProgress - ModelTuning\n",
      "InProgress - ModelTuning\n",
      "InProgress - ModelTuning\n",
      "InProgress - ModelTuning\n",
      "InProgress - ModelTuning\n",
      "InProgress - ModelTuning\n",
      "InProgress - ModelTuning\n",
      "InProgress - ModelTuning\n",
      "InProgress - ModelTuning\n",
      "InProgress - ModelTuning\n",
      "InProgress - ModelTuning\n",
      "InProgress - ModelTuning\n",
      "InProgress - ModelTuning\n",
      "InProgress - ModelTuning\n",
      "InProgress - ModelTuning\n",
      "InProgress - ModelTuning\n",
      "InProgress - ModelTuning\n",
      "InProgress - ModelTuning\n",
      "InProgress - ModelTuning\n",
      "InProgress - ModelTuning\n",
      "InProgress - ModelTuning\n",
      "InProgress - ModelTuning\n",
      "InProgress - ModelTuning\n",
      "InProgress - ModelTuning\n",
      "InProgress - ModelTuning\n",
      "InProgress - ModelTuning\n",
      "InProgress - ModelTuning\n",
      "InProgress - ModelTuning\n",
      "InProgress - ModelTuning\n",
      "InProgress - ModelTuning\n",
      "InProgress - ModelTuning\n",
      "InProgress - ModelTuning\n",
      "InProgress - ModelTuning\n",
      "InProgress - ModelTuning\n",
      "InProgress - ModelTuning\n",
      "InProgress - ModelTuning\n",
      "InProgress - ModelTuning\n",
      "InProgress - ModelTuning\n",
      "InProgress - ModelTuning\n",
      "InProgress - ModelTuning\n",
      "InProgress - ModelTuning\n",
      "InProgress - ModelTuning\n",
      "InProgress - ModelTuning\n",
      "InProgress - ModelTuning\n",
      "InProgress - ModelTuning\n",
      "InProgress - ModelTuning\n",
      "InProgress - ModelTuning\n",
      "InProgress - ModelTuning\n",
      "Completed - MaxCandidatesReached\n",
      "Time Taken for job = 7165.622578859329\n"
     ]
    }
   ],
   "source": [
    "# Kick off the Autopilot job\n",
    "import time\n",
    "start = time.time()\n",
    "print ('JobStatus - Secondary Status')\n",
    "print('------------------------------')\n",
    "\n",
    "\n",
    "describe_response = sm.describe_auto_ml_job(AutoMLJobName=auto_ml_job_name)\n",
    "print (describe_response['AutoMLJobStatus'] + \" - \" + describe_response['AutoMLJobSecondaryStatus'])\n",
    "job_run_status = describe_response['AutoMLJobStatus']\n",
    "    \n",
    "while job_run_status not in ('Failed', 'Completed', 'Stopped'):\n",
    "    describe_response = sm.describe_auto_ml_job(AutoMLJobName=auto_ml_job_name)\n",
    "    job_run_status = describe_response['AutoMLJobStatus']\n",
    "    \n",
    "    print (describe_response['AutoMLJobStatus'] + \" - \" + describe_response['AutoMLJobSecondaryStatus'])\n",
    "    sleep(30)\n",
    "end = time.time()\n",
    "print(\"Time Taken for job = {}\".format(end - start))"
   ]
  },
  {
   "cell_type": "code",
   "execution_count": 96,
   "metadata": {
    "scrolled": true
   },
   "outputs": [
    {
     "data": {
      "text/plain": [
       "{'AutoMLJobName': 'automl-dm-23-15-11-31',\n",
       " 'AutoMLJobArn': 'arn:aws:sagemaker:us-east-1:389535300735:automl-job/automl-dm-23-15-11-31',\n",
       " 'InputDataConfig': [{'DataSource': {'S3DataSource': {'S3DataType': 'S3Prefix',\n",
       "     'S3Uri': 's3://sagemaker-us-east-1-389535300735/sagemaker/accessibility/input'}},\n",
       "   'TargetAttributeName': 'Level'}],\n",
       " 'OutputDataConfig': {'S3OutputPath': 's3://sagemaker-us-east-1-389535300735/sagemaker/accessibility/automloutput'},\n",
       " 'RoleArn': 'arn:aws:iam::389535300735:role/service-role/AmazonSageMaker-ExecutionRole-20190823T110499',\n",
       " 'AutoMLJobObjective': {'MetricName': 'Accuracy'},\n",
       " 'ProblemType': 'BinaryClassification',\n",
       " 'CreationTime': datetime.datetime(2019, 12, 23, 15, 11, 41, 698000, tzinfo=tzlocal()),\n",
       " 'EndTime': datetime.datetime(2019, 12, 23, 17, 11, 31, 899000, tzinfo=tzlocal()),\n",
       " 'LastModifiedTime': datetime.datetime(2019, 12, 23, 17, 11, 31, 936000, tzinfo=tzlocal()),\n",
       " 'BestCandidate': {'CandidateName': 'tuning-job-1-e4229d391ccb4660b4-086-00948424',\n",
       "  'FinalAutoMLJobObjectiveMetric': {'MetricName': 'validation:accuracy',\n",
       "   'Value': 0.8189550042152405},\n",
       "  'ObjectiveStatus': 'Succeeded',\n",
       "  'CandidateSteps': [{'CandidateStepType': 'AWS::SageMaker::ProcessingJob',\n",
       "    'CandidateStepArn': 'arn:aws:sagemaker:us-east-1:389535300735:processing-job/db-1-694f3608008c4db3b0ef60965eb5c9f476d3af96506144e49ff7d62b16',\n",
       "    'CandidateStepName': 'db-1-694f3608008c4db3b0ef60965eb5c9f476d3af96506144e49ff7d62b16'},\n",
       "   {'CandidateStepType': 'AWS::SageMaker::TrainingJob',\n",
       "    'CandidateStepArn': 'arn:aws:sagemaker:us-east-1:389535300735:training-job/automl-dm--dpp0-1-779b98a64b5c402bb77c98c96131c3e96841b2d538bc4',\n",
       "    'CandidateStepName': 'automl-dm--dpp0-1-779b98a64b5c402bb77c98c96131c3e96841b2d538bc4'},\n",
       "   {'CandidateStepType': 'AWS::SageMaker::TransformJob',\n",
       "    'CandidateStepArn': 'arn:aws:sagemaker:us-east-1:389535300735:transform-job/automl-dm--dpp0-csv-1-b82f119579a84577a7b3c78d83c85030438f769d1',\n",
       "    'CandidateStepName': 'automl-dm--dpp0-csv-1-b82f119579a84577a7b3c78d83c85030438f769d1'},\n",
       "   {'CandidateStepType': 'AWS::SageMaker::TrainingJob',\n",
       "    'CandidateStepArn': 'arn:aws:sagemaker:us-east-1:389535300735:training-job/tuning-job-1-e4229d391ccb4660b4-086-00948424',\n",
       "    'CandidateStepName': 'tuning-job-1-e4229d391ccb4660b4-086-00948424'}],\n",
       "  'CandidateStatus': 'Completed',\n",
       "  'InferenceContainers': [{'Image': '683313688378.dkr.ecr.us-east-1.amazonaws.com/sagemaker-sklearn-automl:0.1.0-cpu-py3',\n",
       "    'ModelDataUrl': 's3://sagemaker-us-east-1-389535300735/sagemaker/accessibility/automloutput/automl-dm-23-15-11-31/data-processor-models/automl-dm--dpp0-1-779b98a64b5c402bb77c98c96131c3e96841b2d538bc4/output/model.tar.gz',\n",
       "    'Environment': {'AUTOML_TRANSFORM_MODE': 'feature-transform',\n",
       "     'SAGEMAKER_DEFAULT_INVOCATIONS_ACCEPT': 'application/x-recordio-protobuf',\n",
       "     'SAGEMAKER_PROGRAM': 'sagemaker_serve',\n",
       "     'SAGEMAKER_SUBMIT_DIRECTORY': '/opt/ml/model/sagemaker_serve.py'}},\n",
       "   {'Image': '683313688378.dkr.ecr.us-east-1.amazonaws.com/sagemaker-xgboost:0.90-1-cpu-py3',\n",
       "    'ModelDataUrl': 's3://sagemaker-us-east-1-389535300735/sagemaker/accessibility/automloutput/automl-dm-23-15-11-31/tuning/automl-dm--dpp0-xgb/tuning-job-1-e4229d391ccb4660b4-086-00948424/output/model.tar.gz',\n",
       "    'Environment': {'MAX_CONTENT_LENGTH': '20971520',\n",
       "     'SAGEMAKER_DEFAULT_INVOCATIONS_ACCEPT': 'text/csv'}},\n",
       "   {'Image': '683313688378.dkr.ecr.us-east-1.amazonaws.com/sagemaker-sklearn-automl:0.1.0-cpu-py3',\n",
       "    'ModelDataUrl': 's3://sagemaker-us-east-1-389535300735/sagemaker/accessibility/automloutput/automl-dm-23-15-11-31/data-processor-models/automl-dm--dpp0-1-779b98a64b5c402bb77c98c96131c3e96841b2d538bc4/output/model.tar.gz',\n",
       "    'Environment': {'AUTOML_TRANSFORM_MODE': 'inverse-label-transform',\n",
       "     'SAGEMAKER_DEFAULT_INVOCATIONS_ACCEPT': 'text/csv',\n",
       "     'SAGEMAKER_PROGRAM': 'sagemaker_serve',\n",
       "     'SAGEMAKER_SUBMIT_DIRECTORY': '/opt/ml/model/sagemaker_serve.py'}}],\n",
       "  'CreationTime': datetime.datetime(2019, 12, 23, 17, 11, 29, 969000, tzinfo=tzlocal()),\n",
       "  'LastModifiedTime': datetime.datetime(2019, 12, 23, 17, 11, 29, 969000, tzinfo=tzlocal())},\n",
       " 'AutoMLJobStatus': 'Completed',\n",
       " 'AutoMLJobSecondaryStatus': 'MaxCandidatesReached',\n",
       " 'GenerateCandidateDefinitionsOnly': False,\n",
       " 'AutoMLJobArtifacts': {'CandidateDefinitionNotebookLocation': 's3://sagemaker-us-east-1-389535300735/sagemaker/accessibility/automloutput/automl-dm-23-15-11-31/sagemaker-automl-candidates/pr-1-ee4c8e4cb21f4a568cecb742bf02f24a6fa7e61f18ab4ac79ddf372968/notebooks/SageMakerAutopilotCandidateDefinitionNotebook.ipynb',\n",
       "  'DataExplorationNotebookLocation': 's3://sagemaker-us-east-1-389535300735/sagemaker/accessibility/automloutput/automl-dm-23-15-11-31/sagemaker-automl-candidates/pr-1-ee4c8e4cb21f4a568cecb742bf02f24a6fa7e61f18ab4ac79ddf372968/notebooks/SageMakerAutopilotDataExplorationNotebook.ipynb'},\n",
       " 'ResolvedAttributes': {'AutoMLJobObjective': {'MetricName': 'Accuracy'},\n",
       "  'ProblemType': 'BinaryClassification',\n",
       "  'CompletionCriteria': {'MaxCandidates': 250,\n",
       "   'MaxRuntimePerTrainingJobInSeconds': 86400,\n",
       "   'MaxAutoMLJobRuntimeInSeconds': 2592000}},\n",
       " 'ResponseMetadata': {'RequestId': '4657086e-3543-4629-9210-6ba3bc7ae0b7',\n",
       "  'HTTPStatusCode': 200,\n",
       "  'HTTPHeaders': {'x-amzn-requestid': '4657086e-3543-4629-9210-6ba3bc7ae0b7',\n",
       "   'content-type': 'application/x-amz-json-1.1',\n",
       "   'content-length': '4564',\n",
       "   'date': 'Mon, 23 Dec 2019 17:11:54 GMT'},\n",
       "  'RetryAttempts': 0}}"
      ]
     },
     "execution_count": 96,
     "metadata": {},
     "output_type": "execute_result"
    }
   ],
   "source": [
    "describe_response"
   ]
  },
  {
   "cell_type": "code",
   "execution_count": 97,
   "metadata": {},
   "outputs": [
    {
     "name": "stdout",
     "output_type": "stream",
     "text": [
      "{'CandidateName': 'tuning-job-1-e4229d391ccb4660b4-086-00948424', 'FinalAutoMLJobObjectiveMetric': {'MetricName': 'validation:accuracy', 'Value': 0.8189550042152405}, 'ObjectiveStatus': 'Succeeded', 'CandidateSteps': [{'CandidateStepType': 'AWS::SageMaker::ProcessingJob', 'CandidateStepArn': 'arn:aws:sagemaker:us-east-1:389535300735:processing-job/db-1-694f3608008c4db3b0ef60965eb5c9f476d3af96506144e49ff7d62b16', 'CandidateStepName': 'db-1-694f3608008c4db3b0ef60965eb5c9f476d3af96506144e49ff7d62b16'}, {'CandidateStepType': 'AWS::SageMaker::TrainingJob', 'CandidateStepArn': 'arn:aws:sagemaker:us-east-1:389535300735:training-job/automl-dm--dpp0-1-779b98a64b5c402bb77c98c96131c3e96841b2d538bc4', 'CandidateStepName': 'automl-dm--dpp0-1-779b98a64b5c402bb77c98c96131c3e96841b2d538bc4'}, {'CandidateStepType': 'AWS::SageMaker::TransformJob', 'CandidateStepArn': 'arn:aws:sagemaker:us-east-1:389535300735:transform-job/automl-dm--dpp0-csv-1-b82f119579a84577a7b3c78d83c85030438f769d1', 'CandidateStepName': 'automl-dm--dpp0-csv-1-b82f119579a84577a7b3c78d83c85030438f769d1'}, {'CandidateStepType': 'AWS::SageMaker::TrainingJob', 'CandidateStepArn': 'arn:aws:sagemaker:us-east-1:389535300735:training-job/tuning-job-1-e4229d391ccb4660b4-086-00948424', 'CandidateStepName': 'tuning-job-1-e4229d391ccb4660b4-086-00948424'}], 'CandidateStatus': 'Completed', 'InferenceContainers': [{'Image': '683313688378.dkr.ecr.us-east-1.amazonaws.com/sagemaker-sklearn-automl:0.1.0-cpu-py3', 'ModelDataUrl': 's3://sagemaker-us-east-1-389535300735/sagemaker/accessibility/automloutput/automl-dm-23-15-11-31/data-processor-models/automl-dm--dpp0-1-779b98a64b5c402bb77c98c96131c3e96841b2d538bc4/output/model.tar.gz', 'Environment': {'AUTOML_TRANSFORM_MODE': 'feature-transform', 'SAGEMAKER_DEFAULT_INVOCATIONS_ACCEPT': 'application/x-recordio-protobuf', 'SAGEMAKER_PROGRAM': 'sagemaker_serve', 'SAGEMAKER_SUBMIT_DIRECTORY': '/opt/ml/model/sagemaker_serve.py'}}, {'Image': '683313688378.dkr.ecr.us-east-1.amazonaws.com/sagemaker-xgboost:0.90-1-cpu-py3', 'ModelDataUrl': 's3://sagemaker-us-east-1-389535300735/sagemaker/accessibility/automloutput/automl-dm-23-15-11-31/tuning/automl-dm--dpp0-xgb/tuning-job-1-e4229d391ccb4660b4-086-00948424/output/model.tar.gz', 'Environment': {'MAX_CONTENT_LENGTH': '20971520', 'SAGEMAKER_DEFAULT_INVOCATIONS_ACCEPT': 'text/csv'}}, {'Image': '683313688378.dkr.ecr.us-east-1.amazonaws.com/sagemaker-sklearn-automl:0.1.0-cpu-py3', 'ModelDataUrl': 's3://sagemaker-us-east-1-389535300735/sagemaker/accessibility/automloutput/automl-dm-23-15-11-31/data-processor-models/automl-dm--dpp0-1-779b98a64b5c402bb77c98c96131c3e96841b2d538bc4/output/model.tar.gz', 'Environment': {'AUTOML_TRANSFORM_MODE': 'inverse-label-transform', 'SAGEMAKER_DEFAULT_INVOCATIONS_ACCEPT': 'text/csv', 'SAGEMAKER_PROGRAM': 'sagemaker_serve', 'SAGEMAKER_SUBMIT_DIRECTORY': '/opt/ml/model/sagemaker_serve.py'}}], 'CreationTime': datetime.datetime(2019, 12, 23, 17, 11, 29, 969000, tzinfo=tzlocal()), 'LastModifiedTime': datetime.datetime(2019, 12, 23, 17, 11, 29, 969000, tzinfo=tzlocal())}\n",
      "\n",
      "\n",
      "CandidateName: tuning-job-1-e4229d391ccb4660b4-086-00948424\n",
      "FinalAutoMLJobObjectiveMetricName: validation:accuracy\n",
      "FinalAutoMLJobObjectiveMetricValue: 0.8189550042152405\n"
     ]
    }
   ],
   "source": [
    "# lets look at the best job\n",
    "best_candidate = sm.describe_auto_ml_job(AutoMLJobName=auto_ml_job_name)['BestCandidate']\n",
    "best_candidate_name = best_candidate['CandidateName']\n",
    "print(best_candidate)\n",
    "print('\\n')\n",
    "print(\"CandidateName: \" + best_candidate_name)\n",
    "print(\"FinalAutoMLJobObjectiveMetricName: \" + best_candidate['FinalAutoMLJobObjectiveMetric']['MetricName'])\n",
    "print(\"FinalAutoMLJobObjectiveMetricValue: \" + str(best_candidate['FinalAutoMLJobObjectiveMetric']['Value']))\n"
   ]
  },
  {
   "cell_type": "code",
   "execution_count": 98,
   "metadata": {},
   "outputs": [
    {
     "name": "stdout",
     "output_type": "stream",
     "text": [
      "Model ARN corresponding to the best candidate is : arn:aws:sagemaker:us-east-1:389535300735:model/automl-23-15-11-31\n"
     ]
    }
   ],
   "source": [
    "# Let's now use boto3 to deploy the model\n",
    "model_name = 'automl-' + timestamp_suffix\n",
    "\n",
    "model = sm.create_model(Containers=best_candidate['InferenceContainers'],\n",
    "                            ModelName=model_name,\n",
    "                            ExecutionRoleArn=role)\n",
    "\n",
    "print('Model ARN corresponding to the best candidate is : {}'.format(model['ModelArn']))"
   ]
  },
  {
   "cell_type": "code",
   "execution_count": 99,
   "metadata": {},
   "outputs": [
    {
     "name": "stdout",
     "output_type": "stream",
     "text": [
      "automl-endpoint-config2019-12-23-17-15-43\n",
      "Endpoint Config Arn: arn:aws:sagemaker:us-east-1:389535300735:endpoint-config/automl-endpoint-config2019-12-23-17-15-43\n"
     ]
    }
   ],
   "source": [
    "endpoint_config_name = 'automl-endpoint-config' + strftime(\"%Y-%m-%d-%H-%M-%S\", gmtime())\n",
    "print(endpoint_config_name)\n",
    "create_endpoint_config_response = sm.create_endpoint_config(\n",
    "    EndpointConfigName = endpoint_config_name,\n",
    "    ProductionVariants=[{\n",
    "        'InstanceType':'ml.m4.xlarge',\n",
    "        'InitialVariantWeight':1,\n",
    "        'InitialInstanceCount':1,\n",
    "        'ModelName':model_name,\n",
    "        'VariantName':'AllTraffic'}])\n",
    "\n",
    "print(\"Endpoint Config Arn: \" + create_endpoint_config_response['EndpointConfigArn'])"
   ]
  },
  {
   "cell_type": "markdown",
   "metadata": {},
   "source": [
    "## Create the Endpoint for the AutoML job"
   ]
  },
  {
   "cell_type": "code",
   "execution_count": 100,
   "metadata": {},
   "outputs": [
    {
     "name": "stdout",
     "output_type": "stream",
     "text": [
      "autmlEndpoint-2019-12-23-17-15-48\n",
      "arn:aws:sagemaker:us-east-1:389535300735:endpoint/autmlendpoint-2019-12-23-17-15-48\n",
      "Status: Creating\n",
      "Status: Creating\n",
      "Status: Creating\n",
      "Status: Creating\n",
      "Status: Creating\n",
      "Status: Creating\n",
      "Status: Creating\n",
      "Status: Creating\n",
      "Status: Creating\n",
      "Status: Creating\n",
      "Status: Creating\n",
      "Status: InService\n",
      "Arn: arn:aws:sagemaker:us-east-1:389535300735:endpoint/autmlendpoint-2019-12-23-17-15-48\n",
      "Status: InService\n",
      "CPU times: user 149 ms, sys: 10.5 ms, total: 159 ms\n",
      "Wall time: 11min 1s\n"
     ]
    }
   ],
   "source": [
    "%%time\n",
    "import time\n",
    "\n",
    "endpoint_name = 'autmlEndpoint-' + strftime(\"%Y-%m-%d-%H-%M-%S\", gmtime())\n",
    "print(endpoint_name)\n",
    "create_endpoint_response = sm.create_endpoint(\n",
    "    EndpointName=endpoint_name,\n",
    "    EndpointConfigName=endpoint_config_name)\n",
    "print(create_endpoint_response['EndpointArn'])\n",
    "\n",
    "resp = sm.describe_endpoint(EndpointName=endpoint_name)\n",
    "status = resp['EndpointStatus']\n",
    "print(\"Status: \" + status)\n",
    "\n",
    "while status=='Creating':\n",
    "    time.sleep(60)\n",
    "    resp = sm.describe_endpoint(EndpointName=endpoint_name)\n",
    "    status = resp['EndpointStatus']\n",
    "    print(\"Status: \" + status)\n",
    "\n",
    "print(\"Arn: \" + resp['EndpointArn'])\n",
    "print(\"Status: \" + status)"
   ]
  },
  {
   "cell_type": "markdown",
   "metadata": {},
   "source": [
    "## Test the Model predictions\n",
    "\n",
    "Replace the endpoint name below with your endpoint name from the above cell: it should start with 'autmlEndpoint-yyyy-mm-dd-hh-mm-ss'"
   ]
  },
  {
   "cell_type": "code",
   "execution_count": 120,
   "metadata": {},
   "outputs": [],
   "source": [
    "from sagemaker.predictor import RealTimePredictor, csv_deserializer, csv_serializer\n",
    "endpoint  = 'autmlEndpoint-2019-12-23-17-15-48' #replace with your endpoint name here\n",
    "autopredictor = RealTimePredictor(endpoint = endpoint, serializer=csv_serializer, deserializer =csv_deserializer, \n",
    "                                  content_type='text/csv', sagemaker_session = session)"
   ]
  },
  {
   "cell_type": "code",
   "execution_count": 127,
   "metadata": {},
   "outputs": [],
   "source": [
    "y_test = test_sample.Level\n",
    "X_pred = test_sample.drop(columns = ['Level', 'Accessible']).reset_index().drop(columns = ['index'])\n",
    "y_pred = [int(autopredictor.predict(np.array(X_pred.loc[x]))[0][0]) for x in range(len(X_pred))]"
   ]
  },
  {
   "cell_type": "code",
   "execution_count": 131,
   "metadata": {},
   "outputs": [
    {
     "name": "stdout",
     "output_type": "stream",
     "text": [
      "Accuracy from AutoML Job = 0.8148148148148148\n"
     ]
    }
   ],
   "source": [
    "from sklearn.metrics import accuracy_score\n",
    "print(\"Accuracy from AutoML Job = {}\".format(accuracy_score(y_test, y_pred)))"
   ]
  },
  {
   "cell_type": "markdown",
   "metadata": {},
   "source": [
    "# Model Deployment\n",
    "\n",
    "Here We explore two modes of model deployment -- batch and as a live inference endpoint. \n",
    "First we deploy as a live endpoint and obtain model metrics <br/>\n",
    "Next we do a batch transform job. For this we need to load the test data into S3 as well <br/>"
   ]
  },
  {
   "cell_type": "markdown",
   "metadata": {},
   "source": [
    "## Live Model Deployment"
   ]
  },
  {
   "cell_type": "code",
   "execution_count": 132,
   "metadata": {},
   "outputs": [
    {
     "name": "stdout",
     "output_type": "stream",
     "text": [
      "---------------------------------------------------------------------------------------------------------------!"
     ]
    }
   ],
   "source": [
    "xgb_predictor = xgb.deploy(initial_instance_count=1,\n",
    "                                 instance_type='ml.m4.xlarge')"
   ]
  },
  {
   "cell_type": "code",
   "execution_count": 134,
   "metadata": {},
   "outputs": [],
   "source": [
    "xgb_predictor.content_type = 'text/csv'\n",
    "xgb_predictor.serializer = csv_serializer\n",
    "xgb_predictor.deserializer = json_deserializer"
   ]
  },
  {
   "cell_type": "code",
   "execution_count": 135,
   "metadata": {},
   "outputs": [],
   "source": [
    "predictions = []\n",
    "y_test = X_test.Level\n",
    "X_test_drop = X_test.drop(columns = 'Level')\n",
    "for i in range(X_test.shape[0]):\n",
    "    predictions.append(xgb_predictor.predict(np.array(X_test_drop.iloc[i])))\n",
    "predictions = np.array(np.round(predictions))"
   ]
  },
  {
   "cell_type": "code",
   "execution_count": 136,
   "metadata": {},
   "outputs": [
    {
     "name": "stdout",
     "output_type": "stream",
     "text": [
      "              precision    recall  f1-score   support\n",
      "\n",
      "         0.0       0.88      0.51      0.65       274\n",
      "         1.0       0.82      0.97      0.89       639\n",
      "\n",
      "   micro avg       0.83      0.83      0.83       913\n",
      "   macro avg       0.85      0.74      0.77       913\n",
      "weighted avg       0.84      0.83      0.82       913\n",
      "\n"
     ]
    }
   ],
   "source": [
    "from sklearn.metrics import accuracy_score, auc, classification_report\n",
    "print(classification_report(y_test, predictions))"
   ]
  },
  {
   "cell_type": "code",
   "execution_count": 137,
   "metadata": {},
   "outputs": [
    {
     "data": {
      "text/plain": [
       "0.8324205914567361"
      ]
     },
     "execution_count": 137,
     "metadata": {},
     "output_type": "execute_result"
    }
   ],
   "source": [
    "accuracy_score(y_test,predictions)"
   ]
  },
  {
   "cell_type": "markdown",
   "metadata": {},
   "source": [
    "Notice that the model where we have normalized the features returns a higher accuracy score, but the AutoML does a really good job without virtually any data preparation!"
   ]
  },
  {
   "cell_type": "markdown",
   "metadata": {},
   "source": [
    "# Make Inferences directly in SQL using Amazon Athena"
   ]
  },
  {
   "cell_type": "markdown",
   "metadata": {},
   "source": [
    "Next, we will ingest the training data csv file into Amazon Athena and perform inferences directly against the XGBoost SageMaker endpoint. Here we will show how the process works for the XGBoost endpoint. \n",
    "\n",
    "To do so, navigate to SageMaker console and go to Endpoints. Identify the endpoint you just created for XGBoost. It should start with 'sagemaker-xgboost-####'. "
   ]
  },
  {
   "cell_type": "markdown",
   "metadata": {},
   "source": [
    "## Delete Endpoints (Only do so after completing the Athena portion)\n",
    "\n",
    "See the Readme in the Github for this workshop for next steps on how to complete invoke the model endpoints from Amazon Athena"
   ]
  },
  {
   "cell_type": "code",
   "execution_count": null,
   "metadata": {},
   "outputs": [],
   "source": [
    "xgb_predictor.delete_endpoint()"
   ]
  },
  {
   "cell_type": "code",
   "execution_count": null,
   "metadata": {},
   "outputs": [],
   "source": [
    "autopredictor.delete_endpoint()"
   ]
  }
 ],
 "metadata": {
  "kernelspec": {
   "display_name": "conda_python3",
   "language": "python",
   "name": "conda_python3"
  },
  "language_info": {
   "codemirror_mode": {
    "name": "ipython",
    "version": 3
   },
   "file_extension": ".py",
   "mimetype": "text/x-python",
   "name": "python",
   "nbconvert_exporter": "python",
   "pygments_lexer": "ipython3",
   "version": "3.10.8"
  }
 },
 "nbformat": 4,
 "nbformat_minor": 2
}
